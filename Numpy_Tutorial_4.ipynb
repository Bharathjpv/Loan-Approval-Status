{
  "nbformat": 4,
  "nbformat_minor": 0,
  "metadata": {
    "colab": {
      "name": "Numpy_Tutorial_4.ipynb",
      "provenance": [],
      "collapsed_sections": [],
      "include_colab_link": true
    },
    "kernelspec": {
      "display_name": "Python 3",
      "language": "python",
      "name": "python3"
    },
    "language_info": {
      "codemirror_mode": {
        "name": "ipython",
        "version": 3
      },
      "file_extension": ".py",
      "mimetype": "text/x-python",
      "name": "python",
      "nbconvert_exporter": "python",
      "pygments_lexer": "ipython3",
      "version": "3.8.3"
    }
  },
  "cells": [
    {
      "cell_type": "markdown",
      "metadata": {
        "id": "view-in-github",
        "colab_type": "text"
      },
      "source": [
        "<a href=\"https://colab.research.google.com/github/Bharathjpv/Loan-Approval-Status/blob/main/Numpy_Tutorial_4.ipynb\" target=\"_parent\"><img src=\"https://colab.research.google.com/assets/colab-badge.svg\" alt=\"Open In Colab\"/></a>"
      ]
    },
    {
      "cell_type": "code",
      "metadata": {
        "id": "XHGyFld6ymuL"
      },
      "source": [
        "import numpy as np"
      ],
      "execution_count": 1,
      "outputs": []
    },
    {
      "cell_type": "code",
      "metadata": {
        "id": "oMR3Adn14bDc",
        "colab": {
          "base_uri": "https://localhost:8080/"
        },
        "outputId": "64d95f34-b29f-465d-b815-d880e2fc16c1"
      },
      "source": [
        "x1 = np.array(['Intel', 'Microsoft'], dtype=np.str)\n",
        "print(\"Array1:\")\n",
        "print(x1)"
      ],
      "execution_count": 2,
      "outputs": [
        {
          "output_type": "stream",
          "name": "stdout",
          "text": [
            "Array1:\n",
            "['Intel' 'Microsoft']\n"
          ]
        }
      ]
    },
    {
      "cell_type": "code",
      "metadata": {
        "id": "QTX1uZix4a4H",
        "colab": {
          "base_uri": "https://localhost:8080/"
        },
        "outputId": "aa17e600-2d1e-4c2c-d32c-7ed71e9d45cb"
      },
      "source": [
        "x2 = np.array([' Google', ' IBM'], dtype=np.str)\n",
        "print(\"Array2:\")\n",
        "print(x2)"
      ],
      "execution_count": 3,
      "outputs": [
        {
          "output_type": "stream",
          "name": "stdout",
          "text": [
            "Array2:\n",
            "[' Google' ' IBM']\n"
          ]
        }
      ]
    },
    {
      "cell_type": "code",
      "metadata": {
        "id": "H7KVMXZ_4avV",
        "colab": {
          "base_uri": "https://localhost:8080/"
        },
        "outputId": "6df10e4a-1f22-4520-d3cd-f0dd54dff905"
      },
      "source": [
        "new_array = np.char.add(x1, x2)\n",
        "print(\"new array:\")\n",
        "print(new_array)"
      ],
      "execution_count": 4,
      "outputs": [
        {
          "output_type": "stream",
          "name": "stdout",
          "text": [
            "new array:\n",
            "['Intel Google' 'Microsoft IBM']\n"
          ]
        }
      ]
    },
    {
      "cell_type": "code",
      "metadata": {
        "id": "dYSf83dPEn9L",
        "colab": {
          "base_uri": "https://localhost:8080/"
        },
        "outputId": "e05ca379-e058-43b3-8aa5-becce4db6ad1"
      },
      "source": [
        "new_array = np.array(['Intel', 'Microsoft', 'Goggle', 'IBM'], dtype=np.str)\n",
        "print(\"Original Array:\")\n",
        "print(new_array)"
      ],
      "execution_count": 5,
      "outputs": [
        {
          "output_type": "stream",
          "name": "stdout",
          "text": [
            "Original Array:\n",
            "['Intel' 'Microsoft' 'Goggle' 'IBM']\n"
          ]
        }
      ]
    },
    {
      "cell_type": "code",
      "metadata": {
        "id": "2t4V3XbN4aiG",
        "colab": {
          "base_uri": "https://localhost:8080/"
        },
        "outputId": "b5a75c99-6cea-437e-feee-2aeaf665f01f"
      },
      "source": [
        "capitalized_case = np.char.capitalize(new_array)\n",
        "print(\"\\nCapitalized: \", capitalized_case)"
      ],
      "execution_count": 6,
      "outputs": [
        {
          "output_type": "stream",
          "name": "stdout",
          "text": [
            "\n",
            "Capitalized:  ['Intel' 'Microsoft' 'Goggle' 'Ibm']\n"
          ]
        }
      ]
    },
    {
      "cell_type": "code",
      "metadata": {
        "id": "tEAhC09o4aRL",
        "colab": {
          "base_uri": "https://localhost:8080/"
        },
        "outputId": "f5dc3264-2542-4573-8c5a-efb048fa03db"
      },
      "source": [
        "lowered_case = np.char.lower(new_array)\n",
        "print(\"Lowered: \", lowered_case)"
      ],
      "execution_count": 7,
      "outputs": [
        {
          "output_type": "stream",
          "name": "stdout",
          "text": [
            "Lowered:  ['intel' 'microsoft' 'goggle' 'ibm']\n"
          ]
        }
      ]
    },
    {
      "cell_type": "code",
      "metadata": {
        "id": "P7I2BJSE4aCR",
        "colab": {
          "base_uri": "https://localhost:8080/"
        },
        "outputId": "fa31cce7-4989-4989-ea07-ab9ba347c17e"
      },
      "source": [
        "uppered_case = np.char.upper(new_array)\n",
        "print(\"Uppered: \", uppered_case)"
      ],
      "execution_count": 8,
      "outputs": [
        {
          "output_type": "stream",
          "name": "stdout",
          "text": [
            "Uppered:  ['INTEL' 'MICROSOFT' 'GOGGLE' 'IBM']\n"
          ]
        }
      ]
    },
    {
      "cell_type": "code",
      "metadata": {
        "id": "VklD3jQ24Z3A",
        "colab": {
          "base_uri": "https://localhost:8080/"
        },
        "outputId": "56f1c747-b65d-45b0-f996-3a223d4c68cc"
      },
      "source": [
        "swapcased_case = np.char.swapcase(new_array)\n",
        "print(\"Swapcased: \", swapcased_case)"
      ],
      "execution_count": 9,
      "outputs": [
        {
          "output_type": "stream",
          "name": "stdout",
          "text": [
            "Swapcased:  ['iNTEL' 'mICROSOFT' 'gOGGLE' 'ibm']\n"
          ]
        }
      ]
    },
    {
      "cell_type": "code",
      "metadata": {
        "id": "MqFzj11R4Zul",
        "colab": {
          "base_uri": "https://localhost:8080/"
        },
        "outputId": "5c1c9c83-b113-4de2-a70a-5efa0f69e711"
      },
      "source": [
        "titlecased_case = np.char.title(new_array)\n",
        "print(\"Titlecased: \", titlecased_case)"
      ],
      "execution_count": 10,
      "outputs": [
        {
          "output_type": "stream",
          "name": "stdout",
          "text": [
            "Titlecased:  ['Intel' 'Microsoft' 'Goggle' 'Ibm']\n"
          ]
        }
      ]
    },
    {
      "cell_type": "code",
      "metadata": {
        "id": "eNxDWy8k4ZhY",
        "colab": {
          "base_uri": "https://localhost:8080/"
        },
        "outputId": "977f85c9-3830-4246-b85a-b4d8ab2753e0"
      },
      "source": [
        "x = np.array(['Intel', 'Microsoft', 'Goggle', 'IBM'], dtype=np.str)\n",
        "print(\"Original Array:\")\n",
        "print(x)"
      ],
      "execution_count": 11,
      "outputs": [
        {
          "output_type": "stream",
          "name": "stdout",
          "text": [
            "Original Array:\n",
            "['Intel' 'Microsoft' 'Goggle' 'IBM']\n"
          ]
        }
      ]
    },
    {
      "cell_type": "code",
      "metadata": {
        "id": "UQa1CyAwBSkP",
        "colab": {
          "base_uri": "https://localhost:8080/"
        },
        "outputId": "d2f020fd-40c1-48d2-f405-ec4351a7575c"
      },
      "source": [
        "print(\"Number of ‘i’:\")\n",
        "r = np.char.count(x, \"i\")\n",
        "print(r)"
      ],
      "execution_count": 12,
      "outputs": [
        {
          "output_type": "stream",
          "name": "stdout",
          "text": [
            "Number of ‘i’:\n",
            "[0 1 0 0]\n"
          ]
        }
      ]
    },
    {
      "cell_type": "code",
      "metadata": {
        "id": "9yXZLKh7BnlZ",
        "colab": {
          "base_uri": "https://localhost:8080/"
        },
        "outputId": "c600c540-91ec-473b-a80e-b7fa79050ab0"
      },
      "source": [
        "print(\"count the lowest index of ‘I’:\")\n",
        "r = np.char.find(x, \"I\")\n",
        "print(r)"
      ],
      "execution_count": 13,
      "outputs": [
        {
          "output_type": "stream",
          "name": "stdout",
          "text": [
            "count the lowest index of ‘I’:\n",
            "[ 0 -1 -1  0]\n"
          ]
        }
      ]
    },
    {
      "cell_type": "code",
      "metadata": {
        "id": "QULQBB1UB-Om",
        "colab": {
          "base_uri": "https://localhost:8080/"
        },
        "outputId": "31361e74-71b9-4b6b-c74e-64c61f629b8e"
      },
      "source": [
        "print(\"Test if each element of the said array starts with 'I':\")\n",
        "r = np.char.startswith(x, \"I\")\n",
        "print(r)"
      ],
      "execution_count": 14,
      "outputs": [
        {
          "output_type": "stream",
          "name": "stdout",
          "text": [
            "Test if each element of the said array starts with 'I':\n",
            "[ True False False  True]\n"
          ]
        }
      ]
    },
    {
      "cell_type": "code",
      "metadata": {
        "id": "KrChua_p9nQ0",
        "colab": {
          "base_uri": "https://localhost:8080/"
        },
        "outputId": "bfa025cb-91ef-4873-b4e4-356012670f22"
      },
      "source": [
        "centered = np.char.center(x, 15, fillchar='_')\n",
        "print(\"\\nCentered =\", centered)"
      ],
      "execution_count": 15,
      "outputs": [
        {
          "output_type": "stream",
          "name": "stdout",
          "text": [
            "\n",
            "Centered = ['_____Intel_____' '___Microsoft___' '_____Goggle____' '______IBM______']\n"
          ]
        }
      ]
    },
    {
      "cell_type": "code",
      "metadata": {
        "id": "4GsgacmH-Ns1",
        "colab": {
          "base_uri": "https://localhost:8080/"
        },
        "outputId": "41e0364f-8380-436f-8ba8-468abbbddf49"
      },
      "source": [
        "left = np.char.ljust(x, 15, fillchar='_')\n",
        "print(\"Left =\", left)"
      ],
      "execution_count": 16,
      "outputs": [
        {
          "output_type": "stream",
          "name": "stdout",
          "text": [
            "Left = ['Intel__________' 'Microsoft______' 'Goggle_________' 'IBM____________']\n"
          ]
        }
      ]
    },
    {
      "cell_type": "code",
      "metadata": {
        "id": "iNAtGvCC-Nok",
        "colab": {
          "base_uri": "https://localhost:8080/"
        },
        "outputId": "751acdd7-50d0-4618-df9e-6c0cae05d467"
      },
      "source": [
        "right = np.char.rjust(x, 15, fillchar='_')\n",
        "print(\"Right =\", right)"
      ],
      "execution_count": 17,
      "outputs": [
        {
          "output_type": "stream",
          "name": "stdout",
          "text": [
            "Right = ['__________Intel' '______Microsoft' '_________Goggle' '____________IBM']\n"
          ]
        }
      ]
    },
    {
      "cell_type": "code",
      "metadata": {
        "id": "bxieSNm1-NkK",
        "colab": {
          "base_uri": "https://localhost:8080/"
        },
        "outputId": "df028665-f858-47c7-f24d-db6cf9938495"
      },
      "source": [
        "r = np.char.join(\"_\", x)\n",
        "print(r)"
      ],
      "execution_count": 18,
      "outputs": [
        {
          "output_type": "stream",
          "name": "stdout",
          "text": [
            "['I_n_t_e_l' 'M_i_c_r_o_s_o_f_t' 'G_o_g_g_l_e' 'I_B_M']\n"
          ]
        }
      ]
    },
    {
      "cell_type": "code",
      "metadata": {
        "id": "-wvQOSyJ_yMm",
        "colab": {
          "base_uri": "https://localhost:8080/"
        },
        "outputId": "cfd1626c-823b-434b-cdd1-59553b52cadb"
      },
      "source": [
        "r = np.char.replace(x, \"IBM\", \"Motorola\")\n",
        "print(\"\\nNew array:\")\n",
        "print(r)"
      ],
      "execution_count": 19,
      "outputs": [
        {
          "output_type": "stream",
          "name": "stdout",
          "text": [
            "\n",
            "New array:\n",
            "['Intel' 'Microsoft' 'Goggle' 'Motorola']\n"
          ]
        }
      ]
    },
    {
      "cell_type": "code",
      "metadata": {
        "id": "qFJnHpv9_MXV",
        "colab": {
          "base_uri": "https://localhost:8080/"
        },
        "outputId": "f1b90955-3002-483c-a731-191b1e4e9d0f"
      },
      "source": [
        "x1 = np.array(['IBM', 'Microsoft', 'Intel', 'Google', 'MHM'], dtype=np.str)\n",
        "print(\"\\nArray1:\")\n",
        "print(x1)"
      ],
      "execution_count": 20,
      "outputs": [
        {
          "output_type": "stream",
          "name": "stdout",
          "text": [
            "\n",
            "Array1:\n",
            "['IBM' 'Microsoft' 'Intel' 'Google' 'MHM']\n"
          ]
        }
      ]
    },
    {
      "cell_type": "code",
      "metadata": {
        "id": "HTXg7VYX_MR3",
        "colab": {
          "base_uri": "https://localhost:8080/"
        },
        "outputId": "02ba6e17-9d78-4547-9f7d-b68c25f9340f"
      },
      "source": [
        "x2 = np.array(['ibm', 'Microsoft', 'Intel', 'Facebook', 'MHM'], dtype=np.str)\n",
        "print(\"Array2:\")\n",
        "print(x2)"
      ],
      "execution_count": 21,
      "outputs": [
        {
          "output_type": "stream",
          "name": "stdout",
          "text": [
            "Array2:\n",
            "['ibm' 'Microsoft' 'Intel' 'Facebook' 'MHM']\n"
          ]
        }
      ]
    },
    {
      "cell_type": "code",
      "metadata": {
        "id": "ukmtiSVd_MMl",
        "colab": {
          "base_uri": "https://localhost:8080/"
        },
        "outputId": "13a650ac-cb52-4d34-d909-bf4ca43a775c"
      },
      "source": [
        "print(\"\\nEqual test:\")\n",
        "r = np.char.equal(x1, x2)\n",
        "print(r)"
      ],
      "execution_count": 22,
      "outputs": [
        {
          "output_type": "stream",
          "name": "stdout",
          "text": [
            "\n",
            "Equal test:\n",
            "[False  True  True False  True]\n"
          ]
        }
      ]
    },
    {
      "cell_type": "code",
      "metadata": {
        "id": "3pJlt5htArIt",
        "colab": {
          "base_uri": "https://localhost:8080/"
        },
        "outputId": "15e2478d-f7f2-46c4-f6bc-45db650952d7"
      },
      "source": [
        "print(\"\\nNot equal test:\")\n",
        "r = np.char.not_equal(x1, x2)\n",
        "print(r)"
      ],
      "execution_count": 23,
      "outputs": [
        {
          "output_type": "stream",
          "name": "stdout",
          "text": [
            "\n",
            "Not equal test:\n",
            "[ True False False  True False]\n"
          ]
        }
      ]
    },
    {
      "cell_type": "code",
      "metadata": {
        "id": "QX3mat-o9OoZ",
        "colab": {
          "base_uri": "https://localhost:8080/"
        },
        "outputId": "1fbef74c-b9d8-4ada-d3c0-c673f5617ac6"
      },
      "source": [
        "# nppy.split()\n",
        "# We are splitting the string\n",
        "print(np.char.split('MHM Outcome based Education'))"
      ],
      "execution_count": 24,
      "outputs": [
        {
          "output_type": "stream",
          "name": "stdout",
          "text": [
            "['MHM', 'Outcome', 'based', 'Education']\n"
          ]
        }
      ]
    },
    {
      "cell_type": "code",
      "metadata": {
        "id": "TPIWxS0i9Ooc",
        "colab": {
          "base_uri": "https://localhost:8080/"
        },
        "outputId": "bc7db2e0-a322-41da-9da2-54b8698f8fdf"
      },
      "source": [
        "# We are splitting the string\n",
        "print(np.char.split('MHM, Outcome, based, Education', sep = ','))"
      ],
      "execution_count": 25,
      "outputs": [
        {
          "output_type": "stream",
          "name": "stdout",
          "text": [
            "['MHM', ' Outcome', ' based', ' Education']\n"
          ]
        }
      ]
    },
    {
      "cell_type": "code",
      "metadata": {
        "id": "wYHgRtSm9Oof",
        "colab": {
          "base_uri": "https://localhost:8080/"
        },
        "outputId": "6fa1d390-97d4-47eb-c212-943a264fb324"
      },
      "source": [
        "# nppy.join()\n",
        "# We are splitting the string\n",
        "print(np.char.join('-', 'MHM'))"
      ],
      "execution_count": 26,
      "outputs": [
        {
          "output_type": "stream",
          "name": "stdout",
          "text": [
            "M-H-M\n"
          ]
        }
      ]
    },
    {
      "cell_type": "code",
      "metadata": {
        "id": "zuA0hx1s9Ooi",
        "colab": {
          "base_uri": "https://localhost:8080/"
        },
        "outputId": "f1c36550-179f-47da-d900-8d88cecffcb1"
      },
      "source": [
        "# We are splitting the string\n",
        "print(np.char.join(['-', ':'], ['MHM']))"
      ],
      "execution_count": 27,
      "outputs": [
        {
          "output_type": "stream",
          "name": "stdout",
          "text": [
            "['M-H-M' 'M:H:M']\n"
          ]
        }
      ]
    },
    {
      "cell_type": "code",
      "metadata": {
        "id": "i0F7hadc9Ool",
        "colab": {
          "base_uri": "https://localhost:8080/"
        },
        "outputId": "9721a0ce-acb2-4b0e-bc07-5b3f512b5055"
      },
      "source": [
        "# nppy.count()\n",
        "A=np.array(['MHM', 'Outcome', 'based', 'Education'])\n",
        "# We are counting the substring\n",
        "print(np.char.count(A,'MHM'))"
      ],
      "execution_count": 28,
      "outputs": [
        {
          "output_type": "stream",
          "name": "stdout",
          "text": [
            "[1 0 0 0]\n"
          ]
        }
      ]
    },
    {
      "cell_type": "code",
      "metadata": {
        "id": "oYJ7H4Dc9Ooo",
        "colab": {
          "base_uri": "https://localhost:8080/"
        },
        "outputId": "1cb899dc-30ec-4549-8758-cb36629c8309"
      },
      "source": [
        "# We are counting the substring\n",
        "print(np.char.count(A, 'Out'))"
      ],
      "execution_count": 29,
      "outputs": [
        {
          "output_type": "stream",
          "name": "stdout",
          "text": [
            "[0 1 0 0]\n"
          ]
        }
      ]
    },
    {
      "cell_type": "code",
      "metadata": {
        "id": "kJox4cLJ9Oop",
        "colab": {
          "base_uri": "https://localhost:8080/"
        },
        "outputId": "a5e77e8b-4331-4cfa-8744-83ffa3bc8ac6"
      },
      "source": [
        "# nppy.rfind()\n",
        "# We are counting the substring\n",
        "print(np.char.rfind(A,'MHM'))"
      ],
      "execution_count": 30,
      "outputs": [
        {
          "output_type": "stream",
          "name": "stdout",
          "text": [
            "[ 0 -1 -1 -1]\n"
          ]
        }
      ]
    },
    {
      "cell_type": "code",
      "metadata": {
        "id": "pJ7LrySr9Oor",
        "colab": {
          "base_uri": "https://localhost:8080/"
        },
        "outputId": "8af70f5a-cf62-4304-e804-478620181888"
      },
      "source": [
        "# We are counting the substring\n",
        "print(np.char.rfind(A, 'Out'))"
      ],
      "execution_count": 31,
      "outputs": [
        {
          "output_type": "stream",
          "name": "stdout",
          "text": [
            "[-1  0 -1 -1]\n"
          ]
        }
      ]
    },
    {
      "cell_type": "code",
      "metadata": {
        "id": "8x4IQ9Ph9Oot",
        "colab": {
          "base_uri": "https://localhost:8080/"
        },
        "outputId": "bd58e002-6a16-4fc5-ae60-812c498fff2c"
      },
      "source": [
        "# nppy.isnperic()\n",
        "# We are counting the substring\n",
        "print(np.char.isnumeric('123'))"
      ],
      "execution_count": 32,
      "outputs": [
        {
          "output_type": "stream",
          "name": "stdout",
          "text": [
            "True\n"
          ]
        }
      ]
    },
    {
      "cell_type": "code",
      "metadata": {
        "id": "8CfIrYC59Oov",
        "colab": {
          "base_uri": "https://localhost:8080/"
        },
        "outputId": "bf5694f0-3804-415b-b8e5-97e38b965487"
      },
      "source": [
        "# We are counting the substring\n",
        "print(np.char.isnumeric('MHM'))"
      ],
      "execution_count": 33,
      "outputs": [
        {
          "output_type": "stream",
          "name": "stdout",
          "text": [
            "False\n"
          ]
        }
      ]
    },
    {
      "cell_type": "code",
      "metadata": {
        "id": "lSwY4yJx9Oox",
        "colab": {
          "base_uri": "https://localhost:8080/"
        },
        "outputId": "2ee3bc93-a562-4aeb-ee3e-a974edf3fc85"
      },
      "source": [
        "# nppy.equal()\n",
        "# We are checking that strings are equal or not\n",
        "A=np.char.equal('MHM', 'Education')\n",
        "print(A)"
      ],
      "execution_count": 34,
      "outputs": [
        {
          "output_type": "stream",
          "name": "stdout",
          "text": [
            "False\n"
          ]
        }
      ]
    },
    {
      "cell_type": "code",
      "metadata": {
        "id": "yAUdg6G19Ooz",
        "colab": {
          "base_uri": "https://localhost:8080/"
        },
        "outputId": "440885bc-1944-47f2-a96e-22a9ffd65b9d"
      },
      "source": [
        "# We are checking that strings are equal or not\n",
        "A=np.char.equal('MHM', 'MHM')\n",
        "print(A)"
      ],
      "execution_count": 35,
      "outputs": [
        {
          "output_type": "stream",
          "name": "stdout",
          "text": [
            "True\n"
          ]
        }
      ]
    }
  ]
}